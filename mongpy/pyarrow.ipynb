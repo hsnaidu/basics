{
 "cells": [
  {
   "cell_type": "code",
   "execution_count": null,
   "metadata": {},
   "outputs": [],
   "source": [
    "import numpy\n",
    "import pandas as pd\n",
    "import pymongo\n",
    "import pymongoarrow # install using anaconda-prompt\n",
    "import pyarrow\n",
    "import pprint\n",
    "from datetime import datetime "
   ]
  },
  {
   "cell_type": "code",
   "execution_count": null,
   "metadata": {},
   "outputs": [],
   "source": [
    "clinet = pymongo.MongoClient(\"mongodb://127.0.0.1:27017\")"
   ]
  },
  {
   "cell_type": "code",
   "execution_count": null,
   "metadata": {},
   "outputs": [],
   "source": [
    "clinet.list_database_names()"
   ]
  },
  {
   "cell_type": "code",
   "execution_count": null,
   "metadata": {},
   "outputs": [],
   "source": [
    "db = clinet.newDB\n",
    "# newDB is the name of the database \n",
    "col = db.newCol\n",
    "# newCol is the name of the name of the collections"
   ]
  },
  {
   "cell_type": "code",
   "execution_count": null,
   "metadata": {},
   "outputs": [],
   "source": [
    "clinet.list_database_names()\n",
    "# since there is nothing passed into the new database it wont appear here"
   ]
  },
  {
   "cell_type": "code",
   "execution_count": null,
   "metadata": {},
   "outputs": [],
   "source": [
    "data = [\n",
    "{ '_id' : 1, 'measure' : 43, 'status': 'active', 'installed_on': datetime(2022, 1, 8, 3,43,12)},\n",
    "{ '_id' : 2, 'measure' : 32, 'status': 'active', 'installed_on': datetime(2022, 2, 2, 11,43,27)},\n",
    "{ '_id' : 3, 'measure' : 63, 'status': 'inactive', 'installed_on': datetime(2022, 3, 12, 3,53,12)},\n",
    "{ '_id' : 4, 'measure' : 59, 'status': 'active', 'installed_on': datetime(2022, 4, 8, 22,22,45)}\n",
    "]"
   ]
  },
  {
   "cell_type": "code",
   "execution_count": null,
   "metadata": {},
   "outputs": [],
   "source": [
    "data\n",
    "# measure : the reading of the device"
   ]
  },
  {
   "cell_type": "code",
   "execution_count": null,
   "metadata": {},
   "outputs": [],
   "source": [
    "# now we insert the data to the collection\n",
    "col.insert_many(data)"
   ]
  },
  {
   "cell_type": "code",
   "execution_count": null,
   "metadata": {},
   "outputs": [],
   "source": [
    "for doc in col.find(): # this is reading all the docs and printing \n",
    "    print(doc)"
   ]
  },
  {
   "cell_type": "code",
   "execution_count": null,
   "metadata": {},
   "outputs": [],
   "source": [
    "clinet.list_database_names()"
   ]
  },
  {
   "cell_type": "code",
   "execution_count": null,
   "metadata": {},
   "outputs": [],
   "source": [
    "db.list_collection_names()\n",
    "# this is used to check the name of the collection"
   ]
  },
  {
   "cell_type": "code",
   "execution_count": null,
   "metadata": {},
   "outputs": [],
   "source": []
  },
  {
   "cell_type": "code",
   "execution_count": null,
   "metadata": {},
   "outputs": [],
   "source": [
    "# now we play with pymongo\n",
    "# transfer monogdb data into a pandas \n",
    "from pymongoarrow.monkey import patch_all\n",
    "patch_all()"
   ]
  },
  {
   "cell_type": "code",
   "execution_count": null,
   "metadata": {},
   "outputs": [],
   "source": [
    "df = col.find_pandas_all({'measure' : {'$gt' : 40}})\n",
    "df\n",
    "# have an issue here need it check "
   ]
  },
  {
   "cell_type": "code",
   "execution_count": null,
   "metadata": {},
   "outputs": [],
   "source": [
    "from pymongoarrow.api import Schema\n",
    "schema = Schema({'_id' : int, 'measure' : float, 'status' : str , 'installed_on': datetime})"
   ]
  },
  {
   "cell_type": "code",
   "execution_count": null,
   "metadata": {},
   "outputs": [],
   "source": [
    "# now lets transfer monogodb data into a numpy array\n",
    "npa = col.find_numpy_all({'measure' : {'$gt' : 40}},schema = schema)"
   ]
  },
  {
   "cell_type": "code",
   "execution_count": null,
   "metadata": {},
   "outputs": [],
   "source": [
    "# https://learn.mongodb.com/learn/course/pymongoarrow/learning-byte/learn?client=customer"
   ]
  }
 ],
 "metadata": {
  "kernelspec": {
   "display_name": "base",
   "language": "python",
   "name": "python3"
  },
  "language_info": {
   "codemirror_mode": {
    "name": "ipython",
    "version": 3
   },
   "file_extension": ".py",
   "mimetype": "text/x-python",
   "name": "python",
   "nbconvert_exporter": "python",
   "pygments_lexer": "ipython3",
   "version": "3.11.5"
  }
 },
 "nbformat": 4,
 "nbformat_minor": 2
}
