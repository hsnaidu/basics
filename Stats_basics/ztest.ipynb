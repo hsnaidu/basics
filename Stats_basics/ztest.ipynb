{
  "nbformat": 4,
  "nbformat_minor": 0,
  "metadata": {
    "colab": {
      "provenance": []
    },
    "kernelspec": {
      "name": "python3",
      "display_name": "Python 3"
    },
    "language_info": {
      "name": "python"
    }
  },
  "cells": [
    {
      "cell_type": "markdown",
      "source": [
        "Consider the Question\n",
        "\n",
        "Suppose the IQ in a certain population is normally distributed with a mean of 100 and standard deciation of 15\n",
        "A researcher wants to know if a new drug affects IQ levels, so he takes 20 patients to try it and records their IQ test levels.\n",
        "The following code shows how to perform a one sample z-test in python to determin if the new drug causes any significant difference in the IQ level"
      ],
      "metadata": {
        "id": "dsqCw1szR2ld"
      }
    },
    {
      "cell_type": "code",
      "execution_count": 1,
      "metadata": {
        "id": "zsGfn3kkRyvI"
      },
      "outputs": [],
      "source": [
        "# z-test Library\n",
        "from statsmodels.stats.weightstats import ztest as ztest"
      ]
    },
    {
      "cell_type": "code",
      "source": [
        "data = [88,92,94,94,96,97,97,97,99,99,105,109,109,109,110,112,112,113,114,115]"
      ],
      "metadata": {
        "id": "0pRQ1bmoSBWB"
      },
      "execution_count": 2,
      "outputs": []
    },
    {
      "cell_type": "code",
      "source": [
        "ztest(data, value = 100)\n",
        "# ztest(my_data,Mean_to_which_we_are_comparing)"
      ],
      "metadata": {
        "colab": {
          "base_uri": "https://localhost:8080/"
        },
        "id": "f8rh4IxESRHx",
        "outputId": "f4b3f751-926c-47dd-aad4-b0772728b97b"
      },
      "execution_count": 3,
      "outputs": [
        {
          "output_type": "execute_result",
          "data": {
            "text/plain": [
              "(1.5976240527147705, 0.1101266701438426)"
            ]
          },
          "metadata": {},
          "execution_count": 3
        }
      ]
    },
    {
      "cell_type": "code",
      "source": [
        "# They give the z-score and p-value\n",
        "(1.5976240527147705, 0.1101266701438426)\n",
        "# (z-score,p-value)"
      ],
      "metadata": {
        "colab": {
          "base_uri": "https://localhost:8080/"
        },
        "id": "A5CoZpzRSelg",
        "outputId": "c11c5545-91d8-45cd-8005-0e4e4414211e"
      },
      "execution_count": 5,
      "outputs": [
        {
          "output_type": "execute_result",
          "data": {
            "text/plain": [
              "(1.5976240527147705, 0.1101266701438426)"
            ]
          },
          "metadata": {},
          "execution_count": 5
        }
      ]
    },
    {
      "cell_type": "markdown",
      "source": [
        "Consider my Alpha value is 0.05\n",
        "if the p-value is not less than 0.05 we reject the null hypothesis"
      ],
      "metadata": {
        "id": "qc9Vzse9Su06"
      }
    },
    {
      "cell_type": "code",
      "source": [],
      "metadata": {
        "id": "24jSqkFFSpGG"
      },
      "execution_count": null,
      "outputs": []
    }
  ]
}