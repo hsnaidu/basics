{
 "cells": [
  {
   "cell_type": "markdown",
   "metadata": {},
   "source": [
    "NUMPY BASICS : CODE-BASICS\n",
    "1. PYTHON LIBRARY\n",
    "2. THEY ARE USED FOR SCIENTIFIC COMPUTING \n",
    "3. NUMPY IS AN N-DIM ARRAY\n",
    "4. WHEN COMPARED TO LIST NUMPY [takes less memory, fast, convinient]"
   ]
  },
  {
   "cell_type": "markdown",
   "metadata": {},
   "source": [
    "Importing the Library"
   ]
  },
  {
   "cell_type": "code",
   "execution_count": 1,
   "metadata": {},
   "outputs": [],
   "source": [
    "import numpy as np"
   ]
  },
  {
   "cell_type": "code",
   "execution_count": 2,
   "metadata": {},
   "outputs": [
    {
     "data": {
      "text/plain": [
       "array([1, 2, 3])"
      ]
     },
     "execution_count": 2,
     "metadata": {},
     "output_type": "execute_result"
    }
   ],
   "source": [
    "# creating an array in numpy\n",
    "np.array([1,2,3])"
   ]
  },
  {
   "cell_type": "code",
   "execution_count": 3,
   "metadata": {},
   "outputs": [
    {
     "name": "stdout",
     "output_type": "stream",
     "text": [
      "2800\n"
     ]
    }
   ],
   "source": [
    "# comparing the SIZE of NUMPY & LIST\n",
    "import sys\n",
    "l = range(100)\n",
    "print(sys.getsizeof(5)*len(l))\n",
    "# 2800 : Reason size of 1 Array object is 14 Bytes\n",
    "# Pointer are involved they redirect to another memory location taking more space "
   ]
  },
  {
   "cell_type": "code",
   "execution_count": 4,
   "metadata": {},
   "outputs": [
    {
     "name": "stdout",
     "output_type": "stream",
     "text": [
      "400\n"
     ]
    }
   ],
   "source": [
    "numpy_array = np.arange(100) # prints 0 - 99 numbers\n",
    "print(numpy_array.size * numpy_array.itemsize)\n",
    "# 400 "
   ]
  },
  {
   "cell_type": "markdown",
   "metadata": {},
   "source": [
    "BASICS OPERATION OF NUMPY ARRAY"
   ]
  },
  {
   "cell_type": "code",
   "execution_count": 5,
   "metadata": {},
   "outputs": [
    {
     "name": "stdout",
     "output_type": "stream",
     "text": [
      "[1 2 3] [2 3 4]\n",
      "[3 5 7]\n",
      "[-1 -1 -1]\n",
      "[ 2  6 12]\n",
      "[0.5        0.66666667 0.75      ]\n",
      "[1 2 3]\n",
      "20\n"
     ]
    }
   ],
   "source": [
    "# Consider two numpy array\n",
    "a = np.array([1,2,3])\n",
    "b = a + 1\n",
    "print(a,b) # [1 2 3] [2 3 4]\n",
    "\n",
    "# Performing basics mathematical operations { + - * / % and ^}\n",
    "print(a + b) # [3 5 7]\n",
    "print(a - b) # [-1 -1 -1]\n",
    "print(a * b) # [ 2  6 12]\n",
    "print(a / b) # [0.5        0.66666667 0.75      ]\n",
    "print(a % b) # [3 1 7]\n",
    "\n",
    "# Performing Dot Product\n",
    "print(a.dot(b)) # 20 [1*2 + 2*3 + 3*4]"
   ]
  },
  {
   "cell_type": "markdown",
   "metadata": {},
   "source": [
    "CREATING A N-DIMENTIONAL ARRAY"
   ]
  },
  {
   "cell_type": "code",
   "execution_count": 14,
   "metadata": {},
   "outputs": [
    {
     "name": "stdout",
     "output_type": "stream",
     "text": [
      "1\n",
      "4\n",
      "2\n",
      "4\n",
      "3\n",
      "8\n"
     ]
    }
   ],
   "source": [
    "# 1-d Array\n",
    "a = np.array([1,2,3])\n",
    "print(a.ndim)\n",
    "# print(a)\n",
    "\n",
    "# NOTE The Byte Size of Array\n",
    "print(a.itemsize) # 4 :- 4 Cause Int\n",
    "\n",
    "# 2-d Array\n",
    "a = np.array([[\"A\",1],[\"B\",2]])\n",
    "print(a.ndim)\n",
    "# print(a)\n",
    "\n",
    "# NOTE The Byte Size of Array\n",
    "print(a.itemsize) # 44 :- Cause Str + Int\n",
    "\n",
    "# n-d array / 3-dim\n",
    "a = np.array([[[1,2.0],[3,4.0]],[[4,5.0],[6,7.0]]])\n",
    "print(a.ndim)\n",
    "# print(a)\n",
    "\n",
    "# NOTE The Byte Size of Array\n",
    "print(a.itemsize) # 8 :- Cause Float\n",
    "\n"
   ]
  },
  {
   "cell_type": "markdown",
   "metadata": {},
   "source": [
    "CHECK DATATYPE"
   ]
  },
  {
   "cell_type": "code",
   "execution_count": 7,
   "metadata": {},
   "outputs": [
    {
     "data": {
      "text/plain": [
       "dtype('int32')"
      ]
     },
     "execution_count": 7,
     "metadata": {},
     "output_type": "execute_result"
    }
   ],
   "source": [
    "# To Check Datatype\n",
    "a.dtype # dtype('float64')\n",
    "\n",
    "# We can also change the Datatype\n",
    "a.dtype = 'int32'\n",
    "a.dtype # dtype('int32')"
   ]
  },
  {
   "cell_type": "markdown",
   "metadata": {},
   "source": [
    "SIZE AND SHAPE"
   ]
  },
  {
   "cell_type": "code",
   "execution_count": 8,
   "metadata": {},
   "outputs": [
    {
     "name": "stdout",
     "output_type": "stream",
     "text": [
      "16\n",
      "(2, 2, 4)\n"
     ]
    }
   ],
   "source": [
    "print(a.size) # 16 is the size \n",
    "print(a.shape) # 2 rows , 2 cols , 2 array"
   ]
  },
  {
   "cell_type": "markdown",
   "metadata": {},
   "source": [
    "CREATING 0'S AND 1'S MATRIX"
   ]
  },
  {
   "cell_type": "code",
   "execution_count": 9,
   "metadata": {},
   "outputs": [
    {
     "name": "stdout",
     "output_type": "stream",
     "text": [
      "[[1. 1. 1. 1. 1.]\n",
      " [1. 1. 1. 1. 1.]\n",
      " [1. 1. 1. 1. 1.]\n",
      " [1. 1. 1. 1. 1.]\n",
      " [1. 1. 1. 1. 1.]]\n",
      "[[0. 0. 0. 0. 0.]\n",
      " [0. 0. 0. 0. 0.]\n",
      " [0. 0. 0. 0. 0.]\n",
      " [0. 0. 0. 0. 0.]\n",
      " [0. 0. 0. 0. 0.]]\n"
     ]
    }
   ],
   "source": [
    "# all 1's matrix\n",
    "o = np.ones((5,5))\n",
    "print(o) # all 1 x 1 matrix\n",
    "\n",
    "# all 0's matrix\n",
    "z = np.zeros((5,5))\n",
    "print(z) # all 0 x 0 matrix\n"
   ]
  },
  {
   "cell_type": "markdown",
   "metadata": {},
   "source": [
    "ARANGE"
   ]
  },
  {
   "cell_type": "code",
   "execution_count": 10,
   "metadata": {},
   "outputs": [
    {
     "name": "stdout",
     "output_type": "stream",
     "text": [
      "[0 1 2 3 4 5 6 7 8 9]\n",
      "[1 3 5 7 9]\n"
     ]
    }
   ],
   "source": [
    "# Printing for a given range\n",
    "a = np.arange(10)\n",
    "print(a) # [0 1 2 3 4 5 6 7 8 9]\n",
    "\n",
    "# Step Printing\n",
    "a = np.arange(1,10,2)\n",
    "print(a) # [1 3 5 7 9]"
   ]
  },
  {
   "cell_type": "markdown",
   "metadata": {},
   "source": [
    "LINESPACE"
   ]
  },
  {
   "cell_type": "code",
   "execution_count": 11,
   "metadata": {},
   "outputs": [
    {
     "name": "stdout",
     "output_type": "stream",
     "text": [
      "[1.         1.44444444 1.88888889 2.33333333 2.77777778 3.22222222\n",
      " 3.66666667 4.11111111 4.55555556 5.        ]\n"
     ]
    }
   ],
   "source": [
    "a = np.linspace(1,5,10) # Generate 10 numbers btw 1 - 5\n",
    "print(a)"
   ]
  },
  {
   "cell_type": "markdown",
   "metadata": {},
   "source": [
    "RESHAPE ARRAY & TRANSPOSE"
   ]
  },
  {
   "cell_type": "code",
   "execution_count": 12,
   "metadata": {},
   "outputs": [
    {
     "name": "stdout",
     "output_type": "stream",
     "text": [
      "[[1 2 3 4]\n",
      " [5 6 7 8]]\n",
      "(2, 4)\n"
     ]
    },
    {
     "data": {
      "text/plain": [
       "array([[1, 5],\n",
       "       [2, 6],\n",
       "       [3, 7],\n",
       "       [4, 8]])"
      ]
     },
     "execution_count": 12,
     "metadata": {},
     "output_type": "execute_result"
    }
   ],
   "source": [
    "a = np.array([[1,2,3,4],[5,6,7,8]])\n",
    "# print(a)\n",
    "\n",
    "# Reshapping Array\n",
    "print(a)\n",
    "print(a.shape)\n",
    "\n",
    "# Reshape\n",
    "a.reshape(4,2)\n",
    "\n",
    "# NOTE TRANSPOSE\n",
    "a.T"
   ]
  },
  {
   "cell_type": "markdown",
   "metadata": {},
   "source": [
    "RAVEL : Function makes n-dim array into a 1-d array"
   ]
  },
  {
   "cell_type": "code",
   "execution_count": 13,
   "metadata": {},
   "outputs": [
    {
     "data": {
      "text/plain": [
       "array([1, 2, 3, 4, 5, 6, 7, 8])"
      ]
     },
     "execution_count": 13,
     "metadata": {},
     "output_type": "execute_result"
    }
   ],
   "source": [
    "a.ravel()"
   ]
  }
 ],
 "metadata": {
  "kernelspec": {
   "display_name": "base",
   "language": "python",
   "name": "python3"
  },
  "language_info": {
   "codemirror_mode": {
    "name": "ipython",
    "version": 3
   },
   "file_extension": ".py",
   "mimetype": "text/x-python",
   "name": "python",
   "nbconvert_exporter": "python",
   "pygments_lexer": "ipython3",
   "version": "3.11.7"
  }
 },
 "nbformat": 4,
 "nbformat_minor": 2
}
