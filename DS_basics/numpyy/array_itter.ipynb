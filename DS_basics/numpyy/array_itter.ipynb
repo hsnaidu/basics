{
 "cells": [
  {
   "cell_type": "code",
   "execution_count": null,
   "metadata": {},
   "outputs": [],
   "source": [
    "import numpy as np"
   ]
  },
  {
   "cell_type": "code",
   "execution_count": null,
   "metadata": {},
   "outputs": [],
   "source": [
    "a = np.arange(1,31).reshape(6,5)\n",
    "a"
   ]
  },
  {
   "cell_type": "markdown",
   "metadata": {},
   "source": [
    "ITTERATE THROUGH EACH ELEMENT THROUGH THE ARRAY"
   ]
  },
  {
   "cell_type": "code",
   "execution_count": null,
   "metadata": {},
   "outputs": [],
   "source": [
    "for _ in a.flat:\n",
    "    print(_) # NOTE option 1 prints all 30 element \n",
    "\n",
    "for _ in a.flatten():\n",
    "    print(_) # NOTE option 2 prints all 30 element "
   ]
  },
  {
   "cell_type": "markdown",
   "metadata": {},
   "source": [
    "NDITER : FOR ITTERATION"
   ]
  },
  {
   "cell_type": "code",
   "execution_count": 23,
   "metadata": {},
   "outputs": [
    {
     "data": {
      "text/plain": [
       "array([[ 0,  1,  2,  3,  4],\n",
       "       [ 5,  6,  7,  8,  9],\n",
       "       [10, 11, 12, 13, 14],\n",
       "       [15, 16, 17, 18, 19]])"
      ]
     },
     "execution_count": 23,
     "metadata": {},
     "output_type": "execute_result"
    }
   ],
   "source": [
    "a = np.arange(20).reshape(4,5)\n",
    "a"
   ]
  },
  {
   "cell_type": "markdown",
   "metadata": {},
   "source": [
    "LET US ITTERATE THROUGH ONLY ROWS "
   ]
  },
  {
   "cell_type": "code",
   "execution_count": null,
   "metadata": {},
   "outputs": [],
   "source": [
    "for _ in np.nditer(a,order = 'C'):\n",
    "    print(_) # NOTE It does the same operation as flat , flatten()"
   ]
  },
  {
   "cell_type": "markdown",
   "metadata": {},
   "source": [
    "COL'S WISE"
   ]
  },
  {
   "cell_type": "code",
   "execution_count": 22,
   "metadata": {},
   "outputs": [
    {
     "name": "stdout",
     "output_type": "stream",
     "text": [
      "0\n",
      "5\n",
      "10\n",
      "15\n",
      "1\n",
      "6\n",
      "11\n",
      "16\n",
      "2\n",
      "7\n",
      "12\n",
      "17\n",
      "3\n",
      "8\n",
      "13\n",
      "18\n",
      "4\n",
      "9\n",
      "14\n",
      "19\n"
     ]
    }
   ],
   "source": [
    "for _ in np.nditer(a,order='F'):\n",
    "    print(_)"
   ]
  },
  {
   "cell_type": "code",
   "execution_count": 25,
   "metadata": {},
   "outputs": [
    {
     "name": "stdout",
     "output_type": "stream",
     "text": [
      "[ 0  5 10 15]\n",
      "[ 1  6 11 16]\n",
      "[ 2  7 12 17]\n",
      "[ 3  8 13 18]\n",
      "[ 4  9 14 19]\n"
     ]
    }
   ],
   "source": [
    "for x in np.nditer(a,order = 'F',flags=['external_loop']): \n",
    "    print(x) # NOTE This changes the Order Col -> Rows"
   ]
  },
  {
   "cell_type": "code",
   "execution_count": 27,
   "metadata": {},
   "outputs": [
    {
     "name": "stdout",
     "output_type": "stream",
     "text": [
      "0\n",
      "10\n",
      "20\n",
      "30\n",
      "2\n",
      "12\n",
      "22\n",
      "32\n",
      "4\n",
      "14\n",
      "24\n",
      "34\n",
      "6\n",
      "16\n",
      "26\n",
      "36\n",
      "8\n",
      "18\n",
      "28\n",
      "38\n"
     ]
    }
   ],
   "source": [
    "for _ in np.nditer(a,order = 'F', op_flags=['readwrite']):\n",
    "    _ = _ * 2\n",
    "    print(_)"
   ]
  },
  {
   "cell_type": "markdown",
   "metadata": {},
   "source": [
    "ITTERATING THROUGH TWO ARRAYS"
   ]
  },
  {
   "cell_type": "code",
   "execution_count": 28,
   "metadata": {},
   "outputs": [
    {
     "name": "stdout",
     "output_type": "stream",
     "text": [
      "0 0\n",
      "1 0\n",
      "2 0\n",
      "3 0\n",
      "4 1\n",
      "5 1\n",
      "6 1\n",
      "7 1\n",
      "8 2\n",
      "9 2\n",
      "10 2\n",
      "11 2\n"
     ]
    }
   ],
   "source": [
    "a = np.arange(12).reshape(3,4)\n",
    "b = np.arange(3).reshape(3,1)\n",
    "\n",
    "# here we are traversalsing into two array \n",
    "\n",
    "for x,y in np.nditer([a,b]):\n",
    "    print(x,y)"
   ]
  }
 ],
 "metadata": {
  "kernelspec": {
   "display_name": "base",
   "language": "python",
   "name": "python3"
  },
  "language_info": {
   "codemirror_mode": {
    "name": "ipython",
    "version": 3
   },
   "file_extension": ".py",
   "mimetype": "text/x-python",
   "name": "python",
   "nbconvert_exporter": "python",
   "pygments_lexer": "ipython3",
   "version": "3.11.5"
  }
 },
 "nbformat": 4,
 "nbformat_minor": 2
}
